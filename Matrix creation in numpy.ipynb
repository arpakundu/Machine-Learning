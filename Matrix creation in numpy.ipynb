{
 "cells": [
  {
   "cell_type": "code",
   "execution_count": 1,
   "metadata": {},
   "outputs": [
    {
     "name": "stdout",
     "output_type": "stream",
     "text": [
      "The first initialized vector is: \n",
      "[[ 3  6  7]\n",
      " [ 5 -3  0]]\n",
      "The second initialized vector is: \n",
      "[[ 1  1]\n",
      " [ 2  1]\n",
      " [ 3 -3]]\n"
     ]
    }
   ],
   "source": [
    "import numpy as np\n",
    "a = np.array([[3, 6, 7], [5, -3, 0]])\n",
    "b = np.array([[1, 1], [2, 1], [3, -3]])\n",
    "print('The first initialized vector is: ')\n",
    "print(a)\n",
    "print('The second initialized vector is: ')\n",
    "print(b)"
   ]
  }
 ],
 "metadata": {
  "kernelspec": {
   "display_name": "Python 3",
   "language": "python",
   "name": "python3"
  },
  "language_info": {
   "codemirror_mode": {
    "name": "ipython",
    "version": 3
   },
   "file_extension": ".py",
   "mimetype": "text/x-python",
   "name": "python",
   "nbconvert_exporter": "python",
   "pygments_lexer": "ipython3",
   "version": "3.10.6"
  }
 },
 "nbformat": 4,
 "nbformat_minor": 2
}
