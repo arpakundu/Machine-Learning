{
 "cells": [
  {
   "cell_type": "code",
   "execution_count": 1,
   "metadata": {},
   "outputs": [
    {
     "name": "stdout",
     "output_type": "stream",
     "text": [
      "Given matrix is:\n",
      "[[3 4 5]\n",
      " [1 2 2]\n",
      " [4 3 1]]\n",
      "Inverse of the given matrix: \n",
      "[[ 0.44444444 -1.22222222  0.22222222]\n",
      " [-0.77777778  1.88888889  0.11111111]\n",
      " [ 0.55555556 -0.77777778 -0.22222222]]\n"
     ]
    }
   ],
   "source": [
    "import numpy as np\n",
    "m = np.array([[3, 4, 5], [1, 2, 2], [4, 3, 1]])\n",
    "print('Given matrix is:')\n",
    "print(m)\n",
    "result = np.linalg.inv(m)\n",
    "print('Inverse of the given matrix: ')\n",
    "print(result)"
   ]
  }
 ],
 "metadata": {
  "kernelspec": {
   "display_name": "Python 3",
   "language": "python",
   "name": "python3"
  },
  "language_info": {
   "codemirror_mode": {
    "name": "ipython",
    "version": 3
   },
   "file_extension": ".py",
   "mimetype": "text/x-python",
   "name": "python",
   "nbconvert_exporter": "python",
   "pygments_lexer": "ipython3",
   "version": "3.10.6"
  }
 },
 "nbformat": 4,
 "nbformat_minor": 2
}
