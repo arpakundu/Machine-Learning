{
 "cells": [
  {
   "cell_type": "code",
   "execution_count": 1,
   "metadata": {},
   "outputs": [
    {
     "name": "stdout",
     "output_type": "stream",
     "text": [
      "Vector Addition: [50 70 90]\n",
      "Vector Subtraction: [30 30 30]\n",
      "Vector Multiplication: [ 400 1000 1800]\n",
      "Vector Division: [4.  2.5 2. ]\n",
      "Vector Dot Product: 3200\n"
     ]
    }
   ],
   "source": [
    "import numpy as np\n",
    "list3 = [10, 20, 30]\n",
    "list4 = [40, 50, 60]\n",
    "vector3 = np.array(list3)\n",
    "vector4 = np.array(list4)\n",
    "add = vector3 + vector4\n",
    "print('Vector Addition: '+str(add))\n",
    "sub = vector4 - vector3\n",
    "print('Vector Subtraction: '+str(sub))\n",
    "mul = vector3 * vector4\n",
    "print('Vector Multiplication: '+str(mul))\n",
    "div = vector4 / vector3\n",
    "print('Vector Division: '+str(div))\n",
    "dp = vector4.dot(vector3)\n",
    "print('Vector Dot Product: '+str(dp))"
   ]
  }
 ],
 "metadata": {
  "kernelspec": {
   "display_name": "Python 3",
   "language": "python",
   "name": "python3"
  },
  "language_info": {
   "codemirror_mode": {
    "name": "ipython",
    "version": 3
   },
   "file_extension": ".py",
   "mimetype": "text/x-python",
   "name": "python",
   "nbconvert_exporter": "python",
   "pygments_lexer": "ipython3",
   "version": "3.10.6"
  }
 },
 "nbformat": 4,
 "nbformat_minor": 2
}
