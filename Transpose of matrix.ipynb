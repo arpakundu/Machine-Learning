{
 "cells": [
  {
   "cell_type": "code",
   "execution_count": 1,
   "metadata": {},
   "outputs": [
    {
     "name": "stdout",
     "output_type": "stream",
     "text": [
      "The first initialized vector is: \n",
      "[[ 3  6  7]\n",
      " [ 5 -3  0]]\n",
      "The transpose of matrix {a}\n",
      "[[ 3  5]\n",
      " [ 6 -3]\n",
      " [ 7  0]]\n"
     ]
    }
   ],
   "source": [
    "import numpy as np\n",
    "a = np.array([[3, 6, 7], [5, -3, 0]])\n",
    "print('The first initialized vector is: ')\n",
    "print(a)\n",
    "print('The transpose of matrix {a}')\n",
    "print(a.transpose())"
   ]
  }
 ],
 "metadata": {
  "kernelspec": {
   "display_name": "Python 3",
   "language": "python",
   "name": "python3"
  },
  "language_info": {
   "codemirror_mode": {
    "name": "ipython",
    "version": 3
   },
   "file_extension": ".py",
   "mimetype": "text/x-python",
   "name": "python",
   "nbconvert_exporter": "python",
   "pygments_lexer": "ipython3",
   "version": "3.10.6"
  }
 },
 "nbformat": 4,
 "nbformat_minor": 2
}
