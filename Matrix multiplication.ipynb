{
 "cells": [
  {
   "cell_type": "code",
   "execution_count": 1,
   "metadata": {},
   "outputs": [
    {
     "name": "stdout",
     "output_type": "stream",
     "text": [
      "Enter the entries in a single line (seperated by space):\n",
      "[[1 2]\n",
      " [3 4]\n",
      " [5 6]]\n",
      "Enter the entries in a single line (seperated by space):\n",
      "[[1 2 3]\n",
      " [4 5 6]]\n",
      "Multiplication of the two matrix is: \n",
      "[[ 9 12 15]\n",
      " [19 26 33]\n",
      " [29 40 51]]\n"
     ]
    }
   ],
   "source": [
    "import numpy as np\n",
    "row1 = int(input('Enter the number of rows: '))\n",
    "col1 = int(input('Enter the number of columns: '))\n",
    "print('Enter the entries in a single line (seperated by space):')\n",
    "entries = list(map(int, input().split()))\n",
    "matrix1 = np.array(entries).reshape(row1, col1)\n",
    "print(matrix1)\n",
    "\n",
    "row2 = int(input('Enter the number of rows: '))\n",
    "col2 = int(input('Enter the number of columns: '))\n",
    "print('Enter the entries in a single line (seperated by space):')\n",
    "entries = list(map(int, input().split()))\n",
    "matrix2 = np.array(entries).reshape(row2, col2)\n",
    "print(matrix2)\n",
    "\n",
    "x = matrix1.dot(matrix2)\n",
    "print('Multiplication of the two matrix is: ')\n",
    "print(x)"
   ]
  }
 ],
 "metadata": {
  "kernelspec": {
   "display_name": "Python 3",
   "language": "python",
   "name": "python3"
  },
  "language_info": {
   "codemirror_mode": {
    "name": "ipython",
    "version": 3
   },
   "file_extension": ".py",
   "mimetype": "text/x-python",
   "name": "python",
   "nbconvert_exporter": "python",
   "pygments_lexer": "ipython3",
   "version": "3.10.6"
  }
 },
 "nbformat": 4,
 "nbformat_minor": 2
}
